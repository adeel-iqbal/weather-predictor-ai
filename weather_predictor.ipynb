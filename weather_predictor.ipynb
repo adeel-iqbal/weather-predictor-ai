{
 "cells": [
  {
   "cell_type": "code",
   "execution_count": 58,
   "id": "a1a26d8a-ee77-4f7e-8b2b-2f02d9c90243",
   "metadata": {},
   "outputs": [],
   "source": [
    "import pandas as pd\n",
    "import numpy as np\n",
    "import matplotlib.pyplot as plt\n",
    "import seaborn as sns\n",
    "import warnings\n",
    "warnings.filterwarnings('ignore')"
   ]
  },
  {
   "cell_type": "code",
   "execution_count": 60,
   "id": "28be41bf-9a8c-419a-bc7b-9e23970eb018",
   "metadata": {},
   "outputs": [
    {
     "data": {
      "text/html": [
       "<div>\n",
       "<style scoped>\n",
       "    .dataframe tbody tr th:only-of-type {\n",
       "        vertical-align: middle;\n",
       "    }\n",
       "\n",
       "    .dataframe tbody tr th {\n",
       "        vertical-align: top;\n",
       "    }\n",
       "\n",
       "    .dataframe thead th {\n",
       "        text-align: right;\n",
       "    }\n",
       "</style>\n",
       "<table border=\"1\" class=\"dataframe\">\n",
       "  <thead>\n",
       "    <tr style=\"text-align: right;\">\n",
       "      <th></th>\n",
       "      <th>Temperature</th>\n",
       "      <th>Humidity</th>\n",
       "      <th>Wind Speed</th>\n",
       "      <th>Precipitation (%)</th>\n",
       "      <th>Cloud Cover</th>\n",
       "      <th>Atmospheric Pressure</th>\n",
       "      <th>UV Index</th>\n",
       "      <th>Season</th>\n",
       "      <th>Visibility (km)</th>\n",
       "      <th>Location</th>\n",
       "      <th>Weather Type</th>\n",
       "    </tr>\n",
       "  </thead>\n",
       "  <tbody>\n",
       "    <tr>\n",
       "      <th>0</th>\n",
       "      <td>14.0</td>\n",
       "      <td>73</td>\n",
       "      <td>9.5</td>\n",
       "      <td>82.0</td>\n",
       "      <td>partly cloudy</td>\n",
       "      <td>1010.82</td>\n",
       "      <td>2</td>\n",
       "      <td>Winter</td>\n",
       "      <td>3.5</td>\n",
       "      <td>inland</td>\n",
       "      <td>Rainy</td>\n",
       "    </tr>\n",
       "    <tr>\n",
       "      <th>1</th>\n",
       "      <td>39.0</td>\n",
       "      <td>96</td>\n",
       "      <td>8.5</td>\n",
       "      <td>71.0</td>\n",
       "      <td>partly cloudy</td>\n",
       "      <td>1011.43</td>\n",
       "      <td>7</td>\n",
       "      <td>Spring</td>\n",
       "      <td>10.0</td>\n",
       "      <td>inland</td>\n",
       "      <td>Cloudy</td>\n",
       "    </tr>\n",
       "    <tr>\n",
       "      <th>2</th>\n",
       "      <td>30.0</td>\n",
       "      <td>64</td>\n",
       "      <td>7.0</td>\n",
       "      <td>16.0</td>\n",
       "      <td>clear</td>\n",
       "      <td>1018.72</td>\n",
       "      <td>5</td>\n",
       "      <td>Spring</td>\n",
       "      <td>5.5</td>\n",
       "      <td>mountain</td>\n",
       "      <td>Sunny</td>\n",
       "    </tr>\n",
       "    <tr>\n",
       "      <th>3</th>\n",
       "      <td>38.0</td>\n",
       "      <td>83</td>\n",
       "      <td>1.5</td>\n",
       "      <td>82.0</td>\n",
       "      <td>clear</td>\n",
       "      <td>1026.25</td>\n",
       "      <td>7</td>\n",
       "      <td>Spring</td>\n",
       "      <td>1.0</td>\n",
       "      <td>coastal</td>\n",
       "      <td>Sunny</td>\n",
       "    </tr>\n",
       "    <tr>\n",
       "      <th>4</th>\n",
       "      <td>27.0</td>\n",
       "      <td>74</td>\n",
       "      <td>17.0</td>\n",
       "      <td>66.0</td>\n",
       "      <td>overcast</td>\n",
       "      <td>990.67</td>\n",
       "      <td>1</td>\n",
       "      <td>Winter</td>\n",
       "      <td>2.5</td>\n",
       "      <td>mountain</td>\n",
       "      <td>Rainy</td>\n",
       "    </tr>\n",
       "  </tbody>\n",
       "</table>\n",
       "</div>"
      ],
      "text/plain": [
       "   Temperature  Humidity  Wind Speed  Precipitation (%)    Cloud Cover  \\\n",
       "0         14.0        73         9.5               82.0  partly cloudy   \n",
       "1         39.0        96         8.5               71.0  partly cloudy   \n",
       "2         30.0        64         7.0               16.0          clear   \n",
       "3         38.0        83         1.5               82.0          clear   \n",
       "4         27.0        74        17.0               66.0       overcast   \n",
       "\n",
       "   Atmospheric Pressure  UV Index  Season  Visibility (km)  Location  \\\n",
       "0               1010.82         2  Winter              3.5    inland   \n",
       "1               1011.43         7  Spring             10.0    inland   \n",
       "2               1018.72         5  Spring              5.5  mountain   \n",
       "3               1026.25         7  Spring              1.0   coastal   \n",
       "4                990.67         1  Winter              2.5  mountain   \n",
       "\n",
       "  Weather Type  \n",
       "0        Rainy  \n",
       "1       Cloudy  \n",
       "2        Sunny  \n",
       "3        Sunny  \n",
       "4        Rainy  "
      ]
     },
     "execution_count": 60,
     "metadata": {},
     "output_type": "execute_result"
    }
   ],
   "source": [
    "df = pd.read_csv('weather_classification_data.csv')\n",
    "df.head()"
   ]
  },
  {
   "cell_type": "code",
   "execution_count": 62,
   "id": "cae30a6b-0124-4be4-bada-d39ab22da4af",
   "metadata": {},
   "outputs": [
    {
     "data": {
      "text/plain": [
       "(13200, 11)"
      ]
     },
     "execution_count": 62,
     "metadata": {},
     "output_type": "execute_result"
    }
   ],
   "source": [
    "df.shape"
   ]
  },
  {
   "cell_type": "code",
   "execution_count": 64,
   "id": "c8a27458-497f-4977-978c-eb581b3dc457",
   "metadata": {},
   "outputs": [
    {
     "name": "stdout",
     "output_type": "stream",
     "text": [
      "<class 'pandas.core.frame.DataFrame'>\n",
      "RangeIndex: 13200 entries, 0 to 13199\n",
      "Data columns (total 11 columns):\n",
      " #   Column                Non-Null Count  Dtype  \n",
      "---  ------                --------------  -----  \n",
      " 0   Temperature           13200 non-null  float64\n",
      " 1   Humidity              13200 non-null  int64  \n",
      " 2   Wind Speed            13200 non-null  float64\n",
      " 3   Precipitation (%)     13200 non-null  float64\n",
      " 4   Cloud Cover           13200 non-null  object \n",
      " 5   Atmospheric Pressure  13200 non-null  float64\n",
      " 6   UV Index              13200 non-null  int64  \n",
      " 7   Season                13200 non-null  object \n",
      " 8   Visibility (km)       13200 non-null  float64\n",
      " 9   Location              13200 non-null  object \n",
      " 10  Weather Type          13200 non-null  object \n",
      "dtypes: float64(5), int64(2), object(4)\n",
      "memory usage: 1.1+ MB\n"
     ]
    }
   ],
   "source": [
    "df.info()"
   ]
  },
  {
   "cell_type": "code",
   "execution_count": 66,
   "id": "7546290a-1b37-4ac4-89a5-da7bf8095c68",
   "metadata": {},
   "outputs": [
    {
     "data": {
      "text/plain": [
       "Temperature             0\n",
       "Humidity                0\n",
       "Wind Speed              0\n",
       "Precipitation (%)       0\n",
       "Cloud Cover             0\n",
       "Atmospheric Pressure    0\n",
       "UV Index                0\n",
       "Season                  0\n",
       "Visibility (km)         0\n",
       "Location                0\n",
       "Weather Type            0\n",
       "dtype: int64"
      ]
     },
     "execution_count": 66,
     "metadata": {},
     "output_type": "execute_result"
    }
   ],
   "source": [
    "df.isnull().sum()"
   ]
  },
  {
   "cell_type": "code",
   "execution_count": 68,
   "id": "c01fa974-08ce-495b-96c1-b964932668f2",
   "metadata": {},
   "outputs": [
    {
     "data": {
      "text/plain": [
       "0"
      ]
     },
     "execution_count": 68,
     "metadata": {},
     "output_type": "execute_result"
    }
   ],
   "source": [
    "df.duplicated().sum()"
   ]
  },
  {
   "cell_type": "code",
   "execution_count": 70,
   "id": "ed603b93-8573-402c-888e-e3a7cea77003",
   "metadata": {},
   "outputs": [
    {
     "data": {
      "text/plain": [
       "Weather Type\n",
       "Rainy     3300\n",
       "Cloudy    3300\n",
       "Sunny     3300\n",
       "Snowy     3300\n",
       "Name: count, dtype: int64"
      ]
     },
     "execution_count": 70,
     "metadata": {},
     "output_type": "execute_result"
    }
   ],
   "source": [
    "df['Weather Type'].value_counts()"
   ]
  },
  {
   "cell_type": "code",
   "execution_count": 72,
   "id": "75e6149d-1be1-4877-b95e-4a1a16d848d8",
   "metadata": {
    "scrolled": true
   },
   "outputs": [
    {
     "name": "stdout",
     "output_type": "stream",
     "text": [
      "Cloud Cover\n",
      "overcast         6090\n",
      "partly cloudy    4560\n",
      "clear            2139\n",
      "cloudy            411\n",
      "Name: count, dtype: int64\n",
      "Season\n",
      "Winter    5610\n",
      "Spring    2598\n",
      "Autumn    2500\n",
      "Summer    2492\n",
      "Name: count, dtype: int64\n",
      "Location\n",
      "inland      4816\n",
      "mountain    4813\n",
      "coastal     3571\n",
      "Name: count, dtype: int64\n"
     ]
    }
   ],
   "source": [
    "cols = ['Cloud Cover', 'Season', 'Location']\n",
    "\n",
    "for col in cols:\n",
    "    print(df[col].value_counts())"
   ]
  },
  {
   "cell_type": "code",
   "execution_count": 74,
   "id": "79b8501e-6b4e-458b-98cd-3c691ee25bc1",
   "metadata": {},
   "outputs": [
    {
     "data": {
      "text/html": [
       "<div>\n",
       "<style scoped>\n",
       "    .dataframe tbody tr th:only-of-type {\n",
       "        vertical-align: middle;\n",
       "    }\n",
       "\n",
       "    .dataframe tbody tr th {\n",
       "        vertical-align: top;\n",
       "    }\n",
       "\n",
       "    .dataframe thead th {\n",
       "        text-align: right;\n",
       "    }\n",
       "</style>\n",
       "<table border=\"1\" class=\"dataframe\">\n",
       "  <thead>\n",
       "    <tr style=\"text-align: right;\">\n",
       "      <th></th>\n",
       "      <th>Temperature</th>\n",
       "      <th>Humidity</th>\n",
       "      <th>Wind Speed</th>\n",
       "      <th>Precipitation (%)</th>\n",
       "      <th>Atmospheric Pressure</th>\n",
       "      <th>UV Index</th>\n",
       "      <th>Visibility (km)</th>\n",
       "    </tr>\n",
       "  </thead>\n",
       "  <tbody>\n",
       "    <tr>\n",
       "      <th>count</th>\n",
       "      <td>13200.000000</td>\n",
       "      <td>13200.000000</td>\n",
       "      <td>13200.000000</td>\n",
       "      <td>13200.000000</td>\n",
       "      <td>13200.000000</td>\n",
       "      <td>13200.000000</td>\n",
       "      <td>13200.000000</td>\n",
       "    </tr>\n",
       "    <tr>\n",
       "      <th>mean</th>\n",
       "      <td>19.127576</td>\n",
       "      <td>68.710833</td>\n",
       "      <td>9.832197</td>\n",
       "      <td>53.644394</td>\n",
       "      <td>1005.827896</td>\n",
       "      <td>4.005758</td>\n",
       "      <td>5.462917</td>\n",
       "    </tr>\n",
       "    <tr>\n",
       "      <th>std</th>\n",
       "      <td>17.386327</td>\n",
       "      <td>20.194248</td>\n",
       "      <td>6.908704</td>\n",
       "      <td>31.946541</td>\n",
       "      <td>37.199589</td>\n",
       "      <td>3.856600</td>\n",
       "      <td>3.371499</td>\n",
       "    </tr>\n",
       "    <tr>\n",
       "      <th>min</th>\n",
       "      <td>-25.000000</td>\n",
       "      <td>20.000000</td>\n",
       "      <td>0.000000</td>\n",
       "      <td>0.000000</td>\n",
       "      <td>800.120000</td>\n",
       "      <td>0.000000</td>\n",
       "      <td>0.000000</td>\n",
       "    </tr>\n",
       "    <tr>\n",
       "      <th>25%</th>\n",
       "      <td>4.000000</td>\n",
       "      <td>57.000000</td>\n",
       "      <td>5.000000</td>\n",
       "      <td>19.000000</td>\n",
       "      <td>994.800000</td>\n",
       "      <td>1.000000</td>\n",
       "      <td>3.000000</td>\n",
       "    </tr>\n",
       "    <tr>\n",
       "      <th>50%</th>\n",
       "      <td>21.000000</td>\n",
       "      <td>70.000000</td>\n",
       "      <td>9.000000</td>\n",
       "      <td>58.000000</td>\n",
       "      <td>1007.650000</td>\n",
       "      <td>3.000000</td>\n",
       "      <td>5.000000</td>\n",
       "    </tr>\n",
       "    <tr>\n",
       "      <th>75%</th>\n",
       "      <td>31.000000</td>\n",
       "      <td>84.000000</td>\n",
       "      <td>13.500000</td>\n",
       "      <td>82.000000</td>\n",
       "      <td>1016.772500</td>\n",
       "      <td>7.000000</td>\n",
       "      <td>7.500000</td>\n",
       "    </tr>\n",
       "    <tr>\n",
       "      <th>max</th>\n",
       "      <td>109.000000</td>\n",
       "      <td>109.000000</td>\n",
       "      <td>48.500000</td>\n",
       "      <td>109.000000</td>\n",
       "      <td>1199.210000</td>\n",
       "      <td>14.000000</td>\n",
       "      <td>20.000000</td>\n",
       "    </tr>\n",
       "  </tbody>\n",
       "</table>\n",
       "</div>"
      ],
      "text/plain": [
       "        Temperature      Humidity    Wind Speed  Precipitation (%)  \\\n",
       "count  13200.000000  13200.000000  13200.000000       13200.000000   \n",
       "mean      19.127576     68.710833      9.832197          53.644394   \n",
       "std       17.386327     20.194248      6.908704          31.946541   \n",
       "min      -25.000000     20.000000      0.000000           0.000000   \n",
       "25%        4.000000     57.000000      5.000000          19.000000   \n",
       "50%       21.000000     70.000000      9.000000          58.000000   \n",
       "75%       31.000000     84.000000     13.500000          82.000000   \n",
       "max      109.000000    109.000000     48.500000         109.000000   \n",
       "\n",
       "       Atmospheric Pressure      UV Index  Visibility (km)  \n",
       "count          13200.000000  13200.000000     13200.000000  \n",
       "mean            1005.827896      4.005758         5.462917  \n",
       "std               37.199589      3.856600         3.371499  \n",
       "min              800.120000      0.000000         0.000000  \n",
       "25%              994.800000      1.000000         3.000000  \n",
       "50%             1007.650000      3.000000         5.000000  \n",
       "75%             1016.772500      7.000000         7.500000  \n",
       "max             1199.210000     14.000000        20.000000  "
      ]
     },
     "execution_count": 74,
     "metadata": {},
     "output_type": "execute_result"
    }
   ],
   "source": [
    "df.describe()"
   ]
  },
  {
   "cell_type": "code",
   "execution_count": 76,
   "id": "4fdad442-8629-45aa-9efe-b1ef3b7bf165",
   "metadata": {},
   "outputs": [
    {
     "data": {
      "image/png": "[encoded data removed]",
      "text/plain": [
       "<Figure size 1500x1000 with 9 Axes>"
      ]
     },
     "metadata": {},
     "output_type": "display_data"
    }
   ],
   "source": [
    "numeric_cols = ['Temperature', 'Humidity', 'Wind Speed', 'Precipitation (%)', 'Atmospheric Pressure', 'UV Index', 'Visibility (km)']\n",
    "\n",
    "\n",
    "df[numeric_cols].hist(bins=30, figsize=(15,10))\n",
    "plt.tight_layout()\n",
    "plt.show()"
   ]
  },
  {
   "cell_type": "markdown",
   "id": "67004edc-d2c8-4c18-b4f5-9ba1d5f698c4",
   "metadata": {},
   "source": [
    "1. Temperature: Outliers may include extreme highs or lows during heatwaves or cold snaps.\n",
    "\n",
    "2. Humidity: Outliers could be very low (arid) or very high (tropical) values.\n",
    "\n",
    "3. Wind Speed: Outliers are typically very high gusts from storms or hurricanes.\n",
    "\n",
    "4. Precipitation (%): Outliers might be unusually high percentages during rare heavy rainfall.\n",
    "\n",
    "5. Atmospheric Pressure: Outliers could be very low (storm systems) or very high (anticyclones).\n",
    "\n",
    "6. UV Index: Outliers are often extremely high values in high-altitude or equatorial regions.\n",
    "\n",
    "7. Visibility (km): Outliers may include very low values due to fog, dust, or pollution."
   ]
  },
  {
   "cell_type": "code",
   "execution_count": 79,
   "id": "f563aea0-dfc6-47de-b918-95905807c2e0",
   "metadata": {},
   "outputs": [
    {
     "data": {
      "image/png": "[encoded data removed]",
      "text/plain": [
       "<Figure size 1000x800 with 2 Axes>"
      ]
     },
     "metadata": {},
     "output_type": "display_data"
    }
   ],
   "source": [
    "correlation_matrix = df.corr(numeric_only=True)\n",
    "\n",
    "plt.figure(figsize=(10, 8))\n",
    "sns.heatmap(correlation_matrix, annot=True, cmap='coolwarm', fmt=\".2f\", linewidths=.5)\n",
    "plt.title('Correlation Heatmap')\n",
    "plt.show()"
   ]
  },
  {
   "cell_type": "code",
   "execution_count": 81,
   "id": "498df5fc-618a-4a91-95c1-c5c21d9df24c",
   "metadata": {},
   "outputs": [],
   "source": [
    "from sklearn.preprocessing import OneHotEncoder, RobustScaler\n",
    "from sklearn.compose import ColumnTransformer\n",
    "\n",
    "numeric_cols = ['Temperature', 'Humidity', 'Wind Speed', 'Precipitation (%)', \n",
    "                'Atmospheric Pressure', 'UV Index', 'Visibility (km)']\n",
    "\n",
    "categorical_cols = ['Cloud Cover', 'Season', 'Location']\n",
    "\n",
    "preprocessor = ColumnTransformer(\n",
    "    transformers=[\n",
    "        ('num', RobustScaler(), numeric_cols),\n",
    "        ('cat', OneHotEncoder(handle_unknown='ignore'), categorical_cols)\n",
    "    ])"
   ]
  },
  {
   "cell_type": "code",
   "execution_count": 83,
   "id": "b1412692-3a4a-409d-b1d4-6eb4ff685299",
   "metadata": {},
   "outputs": [],
   "source": [
    "from sklearn.preprocessing import LabelEncoder\n",
    "\n",
    "le = LabelEncoder()\n",
    "df['Weather_Label'] = le.fit_transform(df['Weather Type'])"
   ]
  },
  {
   "cell_type": "code",
   "execution_count": 85,
   "id": "c4451cc7-98ae-4488-b771-ad99403ab8d2",
   "metadata": {},
   "outputs": [],
   "source": [
    "from sklearn.model_selection import train_test_split\n",
    "\n",
    "X = df.drop(['Weather Type', 'Weather_Label'], axis=1)\n",
    "y = df['Weather_Label']"
   ]
  },
  {
   "cell_type": "code",
   "execution_count": 87,
   "id": "f45f3c23-7881-46b3-ba55-690c078b916f",
   "metadata": {},
   "outputs": [
    {
     "name": "stdout",
     "output_type": "stream",
     "text": [
      "Shapes:\n",
      "X_train: (9240, 10)\n",
      "X_test: (3960, 10)\n"
     ]
    }
   ],
   "source": [
    "from sklearn.model_selection import train_test_split\n",
    "\n",
    "# Split into 70% train, 30% test\n",
    "X_train, X_test, y_train, y_test = train_test_split(X, y, test_size=0.30, stratify=y, random_state=42)\n",
    "\n",
    "print(\"Shapes:\")\n",
    "print(\"X_train:\", X_train.shape)\n",
    "print(\"X_test:\", X_test.shape)"
   ]
  },
  {
   "cell_type": "code",
   "execution_count": 89,
   "id": "1c8b1016-46d4-4f5b-9d01-07a53fab8172",
   "metadata": {},
   "outputs": [
    {
     "name": "stdout",
     "output_type": "stream",
     "text": [
      "LR Test Macro-F1: 0.8692624534285753\n"
     ]
    }
   ],
   "source": [
    "from sklearn.pipeline import Pipeline\n",
    "from sklearn.linear_model import LogisticRegression\n",
    "from sklearn.metrics import f1_score\n",
    "\n",
    "# Pipeline: preprocessing + LR\n",
    "lr_pipeline = Pipeline([\n",
    "    ('preprocessor', preprocessor),  # RobustScaler + OneHotEncoder\n",
    "    ('classifier', LogisticRegression(\n",
    "        multi_class='multinomial',\n",
    "        solver='lbfgs',\n",
    "        max_iter=1000,\n",
    "        random_state=42\n",
    "    ))\n",
    "])\n",
    "\n",
    "# Fit on full training set\n",
    "lr_pipeline.fit(X_train, y_train)\n",
    "\n",
    "# Predict on test set\n",
    "y_pred_lr = lr_pipeline.predict(X_test)\n",
    "\n",
    "# Evaluate Macro-F1 on test set\n",
    "macro_f1_lr = f1_score(y_test, y_pred_lr, average='macro')\n",
    "print(\"LR Test Macro-F1:\", macro_f1_lr)"
   ]
  },
  {
   "cell_type": "code",
   "execution_count": 91,
   "id": "a44b6f3d-7c19-4d15-a03e-e50bd383f995",
   "metadata": {},
   "outputs": [
    {
     "name": "stdout",
     "output_type": "stream",
     "text": [
      "CatBoost Test Macro-F1: 0.9146976500646813\n"
     ]
    }
   ],
   "source": [
    "from catboost import CatBoostClassifier\n",
    "\n",
    "# Build pipeline: preprocessing + CatBoost\n",
    "cat_pipeline = Pipeline([\n",
    "    ('preprocessor', preprocessor),  # RobustScaler + OneHotEncoder\n",
    "    ('classifier', CatBoostClassifier(\n",
    "        iterations=500,\n",
    "        learning_rate=0.1,\n",
    "        depth=6,\n",
    "        loss_function='MultiClass',\n",
    "        eval_metric='TotalF1',\n",
    "        random_seed=42,\n",
    "        verbose=0\n",
    "    ))\n",
    "])\n",
    "\n",
    "# Fit on full training set\n",
    "cat_pipeline.fit(X_train, y_train)\n",
    "\n",
    "# Predict on test set\n",
    "y_pred_cat = cat_pipeline.predict(X_test)\n",
    "\n",
    "# Evaluate Macro-F1\n",
    "macro_f1_cat = f1_score(y_test, y_pred_cat, average='macro')\n",
    "print(\"CatBoost Test Macro-F1:\", macro_f1_cat)"
   ]
  },
  {
   "cell_type": "code",
   "execution_count": 93,
   "id": "630f18d0-6ab4-4dab-ae46-5794a746fb2b",
   "metadata": {},
   "outputs": [
    {
     "name": "stdout",
     "output_type": "stream",
     "text": [
      "LightGBM Test Macro-F1: 0.9141051573022674\n"
     ]
    }
   ],
   "source": [
    "import lightgbm as lgb\n",
    "\n",
    "# Build pipeline: preprocessing + LightGBM\n",
    "lgb_pipeline = Pipeline([\n",
    "    ('preprocessor', preprocessor),  # RobustScaler + OneHotEncoder\n",
    "    ('classifier', lgb.LGBMClassifier(\n",
    "        n_estimators=500,\n",
    "        learning_rate=0.1,\n",
    "        max_depth=6,\n",
    "        objective='multiclass',\n",
    "        random_state=42,\n",
    "        n_jobs=-1,\n",
    "        verbose=-1\n",
    "    ))\n",
    "])\n",
    "\n",
    "# Fit on full training set\n",
    "lgb_pipeline.fit(X_train, y_train)\n",
    "\n",
    "# Predict on test set\n",
    "y_pred_lgb = lgb_pipeline.predict(X_test)\n",
    "\n",
    "# Evaluate Macro-F1\n",
    "macro_f1_lgb = f1_score(y_test, y_pred_lgb, average='macro')\n",
    "print(\"LightGBM Test Macro-F1:\", macro_f1_lgb)"
   ]
  },
  {
   "cell_type": "code",
   "execution_count": 95,
   "id": "57caf3ac-4cfc-4b47-bf56-e3710a40655a",
   "metadata": {},
   "outputs": [
    {
     "data": {
      "text/html": [
       "<div>\n",
       "<style scoped>\n",
       "    .dataframe tbody tr th:only-of-type {\n",
       "        vertical-align: middle;\n",
       "    }\n",
       "\n",
       "    .dataframe tbody tr th {\n",
       "        vertical-align: top;\n",
       "    }\n",
       "\n",
       "    .dataframe thead th {\n",
       "        text-align: right;\n",
       "    }\n",
       "</style>\n",
       "<table border=\"1\" class=\"dataframe\">\n",
       "  <thead>\n",
       "    <tr style=\"text-align: right;\">\n",
       "      <th></th>\n",
       "      <th>Model</th>\n",
       "      <th>Train Macro-F1</th>\n",
       "      <th>Test Macro-F1</th>\n",
       "    </tr>\n",
       "  </thead>\n",
       "  <tbody>\n",
       "    <tr>\n",
       "      <th>0</th>\n",
       "      <td>CatBoost</td>\n",
       "      <td>0.991673</td>\n",
       "      <td>0.914698</td>\n",
       "    </tr>\n",
       "    <tr>\n",
       "      <th>1</th>\n",
       "      <td>LightGBM</td>\n",
       "      <td>1.000000</td>\n",
       "      <td>0.914105</td>\n",
       "    </tr>\n",
       "    <tr>\n",
       "      <th>2</th>\n",
       "      <td>Logistic Regression</td>\n",
       "      <td>0.871414</td>\n",
       "      <td>0.869262</td>\n",
       "    </tr>\n",
       "  </tbody>\n",
       "</table>\n",
       "</div>"
      ],
      "text/plain": [
       "                 Model  Train Macro-F1  Test Macro-F1\n",
       "0             CatBoost        0.991673       0.914698\n",
       "1             LightGBM        1.000000       0.914105\n",
       "2  Logistic Regression        0.871414       0.869262"
      ]
     },
     "execution_count": 95,
     "metadata": {},
     "output_type": "execute_result"
    }
   ],
   "source": [
    "# Logistic Regression\n",
    "y_train_pred_lr = lr_pipeline.predict(X_train)\n",
    "train_macro_f1_lr = f1_score(y_train, y_train_pred_lr, average='macro')\n",
    "\n",
    "# CatBoost\n",
    "y_train_pred_cat = cat_pipeline.predict(X_train)\n",
    "train_macro_f1_cat = f1_score(y_train, y_train_pred_cat, average='macro')\n",
    "\n",
    "# LightGBM\n",
    "y_train_pred_lgb = lgb_pipeline.predict(X_train)\n",
    "train_macro_f1_lgb = f1_score(y_train, y_train_pred_lgb, average='macro')\n",
    "\n",
    "results_train_test = {\n",
    "    'Model': ['Logistic Regression', 'CatBoost', 'LightGBM'],\n",
    "    'Train Macro-F1': [train_macro_f1_lr, train_macro_f1_cat, train_macro_f1_lgb],\n",
    "    'Test Macro-F1': [macro_f1_lr, macro_f1_cat, macro_f1_lgb]\n",
    "}\n",
    "\n",
    "comparison_train_test_df = pd.DataFrame(results_train_test)\n",
    "comparison_train_test_df = comparison_train_test_df.sort_values(by='Test Macro-F1', ascending=False).reset_index(drop=True)\n",
    "comparison_train_test_df"
   ]
  },
  {
   "cell_type": "code",
   "execution_count": 97,
   "id": "56c1554b-d0b0-48c5-a524-566e7db0fda7",
   "metadata": {},
   "outputs": [
    {
     "name": "stdout",
     "output_type": "stream",
     "text": [
      "Fitting 3 folds for each of 5 candidates, totalling 15 fits\n",
      "CatBoost Best Params: {'classifier__learning_rate': 0.1, 'classifier__iterations': 500, 'classifier__depth': 5}\n",
      "CatBoost RandomizedSearchCV Test Macro-F1: 0.9137586702943372\n"
     ]
    }
   ],
   "source": [
    "from sklearn.model_selection import RandomizedSearchCV\n",
    "from sklearn.metrics import make_scorer\n",
    "\n",
    "# Define pipeline\n",
    "cat_pipeline_rs = Pipeline([\n",
    "    ('preprocessor', preprocessor),\n",
    "    ('classifier', CatBoostClassifier(\n",
    "        loss_function='MultiClass',\n",
    "        eval_metric='TotalF1',\n",
    "        random_seed=42,\n",
    "        verbose=0\n",
    "    ))\n",
    "])\n",
    "\n",
    "# Hyperparameter grid (lightweight)\n",
    "param_dist_cat = {\n",
    "    'classifier__iterations': [400, 500, 600],\n",
    "    'classifier__depth': [4, 5, 6],\n",
    "    'classifier__learning_rate': [0.05, 0.1, 0.15]\n",
    "}\n",
    "\n",
    "# Macro-F1 scorer\n",
    "macro_f1_scorer = make_scorer(f1_score, average='macro')\n",
    "\n",
    "# RandomizedSearchCV\n",
    "rs_cat = RandomizedSearchCV(\n",
    "    cat_pipeline_rs,\n",
    "    param_distributions=param_dist_cat,\n",
    "    n_iter=5,             # only 5 random combinations (light)\n",
    "    scoring=macro_f1_scorer,\n",
    "    cv=3,                 # 3-fold CV\n",
    "    n_jobs=-1,\n",
    "    random_state=42,\n",
    "    verbose=1\n",
    ")\n",
    "\n",
    "# Fit\n",
    "rs_cat.fit(X_train, y_train)\n",
    "\n",
    "# Best parameters & test score\n",
    "print(\"CatBoost Best Params:\", rs_cat.best_params_)\n",
    "y_pred_cat_rs = rs_cat.predict(X_test)\n",
    "macro_f1_cat_rs = f1_score(y_test, y_pred_cat_rs, average='macro')\n",
    "print(\"CatBoost RandomizedSearchCV Test Macro-F1:\", macro_f1_cat_rs)"
   ]
  },
  {
   "cell_type": "code",
   "execution_count": 99,
   "id": "904c6ca3-3446-4228-a7cc-a4056a6fe275",
   "metadata": {},
   "outputs": [
    {
     "name": "stdout",
     "output_type": "stream",
     "text": [
      "Tuned CatBoost Train Macro-F1: 0.982055101311811\n",
      "Tuned CatBoost Test Macro-F1: 0.9137586702943372\n",
      "Train-Test Macro-F1 difference: 0.06829643101747374\n"
     ]
    }
   ],
   "source": [
    "# Predict on training set\n",
    "y_train_pred_cat_rs = rs_cat.predict(X_train)\n",
    "train_macro_f1_cat_rs = f1_score(y_train, y_train_pred_cat_rs, average='macro')\n",
    "\n",
    "print(\"Tuned CatBoost Train Macro-F1:\", train_macro_f1_cat_rs)\n",
    "print(\"Tuned CatBoost Test Macro-F1:\", macro_f1_cat_rs)\n",
    "\n",
    "# Compute difference\n",
    "diff = train_macro_f1_cat_rs - macro_f1_cat_rs\n",
    "print(\"Train-Test Macro-F1 difference:\", diff)"
   ]
  },
  {
   "cell_type": "code",
   "execution_count": null,
   "id": "c9c6f722-5c74-4d70-8257-fce77767278c",
   "metadata": {},
   "outputs": [
    {
     "name": "stdout",
     "output_type": "stream",
     "text": [
      "Fitting 3 folds for each of 5 candidates, totalling 15 fits\n"
     ]
    }
   ],
   "source": [
    "# Define pipeline\n",
    "lgb_pipeline_rs = Pipeline([\n",
    "    ('preprocessor', preprocessor),\n",
    "    ('classifier', lgb.LGBMClassifier(\n",
    "        objective='multiclass',\n",
    "        random_state=42,\n",
    "        n_jobs=-1\n",
    "    ))\n",
    "])\n",
    "\n",
    "# Hyperparameter grid (lightweight)\n",
    "param_dist_lgb = {\n",
    "    'classifier__n_estimators': [400, 500, 600],\n",
    "    'classifier__max_depth': [4, 5, 6],\n",
    "    'classifier__learning_rate': [0.05, 0.1, 0.15]\n",
    "}\n",
    "\n",
    "# RandomizedSearchCV\n",
    "rs_lgb = RandomizedSearchCV(\n",
    "    lgb_pipeline_rs,\n",
    "    param_distributions=param_dist_lgb,\n",
    "    n_iter=5,             # only 5 random combinations\n",
    "    scoring=macro_f1_scorer,\n",
    "    cv=3,                 # 3-fold CV\n",
    "    n_jobs=-1,\n",
    "    random_state=42,\n",
    "    verbose=1\n",
    ")\n",
    "\n",
    "# Fit\n",
    "rs_lgb.fit(X_train, y_train)\n",
    "\n",
    "# Best parameters & test score\n",
    "print(\"LightGBM Best Params:\", rs_lgb.best_params_)\n",
    "y_pred_lgb_rs = rs_lgb.predict(X_test)\n",
    "macro_f1_lgb_rs = f1_score(y_test, y_pred_lgb_rs, average='macro')\n",
    "print(\"LightGBM RandomizedSearchCV Test Macro-F1:\", macro_f1_lgb_rs)"
   ]
  },
  {
   "cell_type": "code",
   "execution_count": 46,
   "id": "d759d385-9ebf-4fb9-a6ac-eb863be8e482",
   "metadata": {},
   "outputs": [
    {
     "name": "stdout",
     "output_type": "stream",
     "text": [
      "Tuned LightGBM Train Macro-F1: 1.0\n",
      "Tuned LightGBM Test Macro-F1: 0.9153451053767224\n",
      "Train-Test Macro-F1 difference: 0.08465489462327758\n"
     ]
    }
   ],
   "source": [
    "# Predict on training set\n",
    "y_train_pred_lgb_rs = rs_lgb.predict(X_train)\n",
    "train_macro_f1_lgb_rs = f1_score(y_train, y_train_pred_lgb_rs, average='macro')\n",
    "\n",
    "print(\"Tuned LightGBM Train Macro-F1:\", train_macro_f1_lgb_rs)\n",
    "print(\"Tuned LightGBM Test Macro-F1:\", macro_f1_lgb_rs)\n",
    "\n",
    "# Compute difference\n",
    "diff = train_macro_f1_lgb_rs - macro_f1_lgb_rs\n",
    "print(\"Train-Test Macro-F1 difference:\", diff)"
   ]
  },
  {
   "cell_type": "code",
   "execution_count": 48,
   "id": "a71b8366-16a6-46e0-b61b-583c00dfad27",
   "metadata": {},
   "outputs": [
    {
     "data": {
      "text/html": [
       "<div>\n",
       "<style scoped>\n",
       "    .dataframe tbody tr th:only-of-type {\n",
       "        vertical-align: middle;\n",
       "    }\n",
       "\n",
       "    .dataframe tbody tr th {\n",
       "        vertical-align: top;\n",
       "    }\n",
       "\n",
       "    .dataframe thead th {\n",
       "        text-align: right;\n",
       "    }\n",
       "</style>\n",
       "<table border=\"1\" class=\"dataframe\">\n",
       "  <thead>\n",
       "    <tr style=\"text-align: right;\">\n",
       "      <th></th>\n",
       "      <th>Model</th>\n",
       "      <th>Train Macro-F1</th>\n",
       "      <th>Test Macro-F1</th>\n",
       "      <th>Overfitting (Train-Test)</th>\n",
       "    </tr>\n",
       "  </thead>\n",
       "  <tbody>\n",
       "    <tr>\n",
       "      <th>0</th>\n",
       "      <td>Logistic Regression</td>\n",
       "      <td>0.871414</td>\n",
       "      <td>0.869262</td>\n",
       "      <td>0.002152</td>\n",
       "    </tr>\n",
       "    <tr>\n",
       "      <th>1</th>\n",
       "      <td>CatBoost (untuned)</td>\n",
       "      <td>0.991673</td>\n",
       "      <td>0.914698</td>\n",
       "      <td>0.076975</td>\n",
       "    </tr>\n",
       "    <tr>\n",
       "      <th>2</th>\n",
       "      <td>LightGBM (untuned)</td>\n",
       "      <td>1.000000</td>\n",
       "      <td>0.914105</td>\n",
       "      <td>0.085895</td>\n",
       "    </tr>\n",
       "    <tr>\n",
       "      <th>3</th>\n",
       "      <td>CatBoost (tuned)</td>\n",
       "      <td>0.982055</td>\n",
       "      <td>0.913759</td>\n",
       "      <td>0.068296</td>\n",
       "    </tr>\n",
       "    <tr>\n",
       "      <th>4</th>\n",
       "      <td>LightGBM (tuned)</td>\n",
       "      <td>1.000000</td>\n",
       "      <td>0.915345</td>\n",
       "      <td>0.084655</td>\n",
       "    </tr>\n",
       "  </tbody>\n",
       "</table>\n",
       "</div>"
      ],
      "text/plain": [
       "                 Model  Train Macro-F1  Test Macro-F1  \\\n",
       "0  Logistic Regression        0.871414       0.869262   \n",
       "1   CatBoost (untuned)        0.991673       0.914698   \n",
       "2   LightGBM (untuned)        1.000000       0.914105   \n",
       "3     CatBoost (tuned)        0.982055       0.913759   \n",
       "4     LightGBM (tuned)        1.000000       0.915345   \n",
       "\n",
       "   Overfitting (Train-Test)  \n",
       "0                  0.002152  \n",
       "1                  0.076975  \n",
       "2                  0.085895  \n",
       "3                  0.068296  \n",
       "4                  0.084655  "
      ]
     },
     "execution_count": 48,
     "metadata": {},
     "output_type": "execute_result"
    }
   ],
   "source": [
    "import pandas as pd\n",
    "\n",
    "# Prepare data\n",
    "comparison_data = {\n",
    "    'Model': [\n",
    "        'Logistic Regression',\n",
    "        'CatBoost (untuned)',\n",
    "        'LightGBM (untuned)',\n",
    "        'CatBoost (tuned)',\n",
    "        'LightGBM (tuned)'\n",
    "    ],\n",
    "    'Train Macro-F1': [\n",
    "        0.871414,        # LR\n",
    "        0.991673,        # CatBoost untuned\n",
    "        1.0,             # LightGBM untuned\n",
    "        0.982055,        # CatBoost tuned\n",
    "        1.0              # LightGBM tuned\n",
    "    ],\n",
    "    'Test Macro-F1': [\n",
    "        0.869262,        # LR\n",
    "        0.914698,        # CatBoost untuned\n",
    "        0.914105,        # LightGBM untuned\n",
    "        0.913759,        # CatBoost tuned\n",
    "        0.915345         # LightGBM tuned\n",
    "    ]\n",
    "}\n",
    "\n",
    "# Create DataFrame\n",
    "df_comparison = pd.DataFrame(comparison_data)\n",
    "\n",
    "# Calculate overfitting (Train - Test)\n",
    "df_comparison['Overfitting (Train-Test)'] = df_comparison['Train Macro-F1'] - df_comparison['Test Macro-F1']\n",
    "\n",
    "# Display\n",
    "df_comparison"
   ]
  },
  {
   "cell_type": "code",
   "execution_count": 50,
   "id": "8f3b241d-d0c6-41ea-9446-05de7a8b221d",
   "metadata": {},
   "outputs": [
    {
     "data": {
      "text/plain": [
       "['catboost_weather_model.pkl']"
      ]
     },
     "execution_count": 50,
     "metadata": {},
     "output_type": "execute_result"
    }
   ],
   "source": [
    "import joblib\n",
    "\n",
    "joblib.dump(rs_cat.best_estimator_, 'catboost_weather_model.pkl')"
   ]
  },
  {
   "cell_type": "code",
   "execution_count": null,
   "id": "29bded56-a19e-4b4f-a2ed-463e97931182",
   "metadata": {},
   "outputs": [],
   "source": [
    "joblib.dump(le, 'label_encoder.pkl')"
   ]
  }
 ],
 "metadata": {
  "kernelspec": {
   "display_name": "Python [conda env:base] *",
   "language": "python",
   "name": "conda-base-py"
  },
  "language_info": {
   "codemirror_mode": {
    "name": "ipython",
    "version": 3
   },
   "file_extension": ".py",
   "mimetype": "text/x-python",
   "name": "python",
   "nbconvert_exporter": "python",
   "pygments_lexer": "ipython3",
   "version": "3.12.7"
  }
 },
 "nbformat": 4,
 "nbformat_minor": 5
}
